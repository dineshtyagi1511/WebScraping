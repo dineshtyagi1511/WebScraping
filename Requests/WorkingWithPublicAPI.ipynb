{
 "cells": [
  {
   "cell_type": "code",
   "execution_count": 2,
   "id": "7723dd4c",
   "metadata": {},
   "outputs": [],
   "source": [
    "import requests"
   ]
  },
  {
   "cell_type": "markdown",
   "id": "a13efe61",
   "metadata": {},
   "source": [
    "## Working with a public API\n",
    "API: https://jsonplaceholder.typicode.com/\n",
    "\n",
    "endpoint: posts\n",
    "\n",
    "perform error handling: raise_for_status()"
   ]
  },
  {
   "cell_type": "markdown",
   "id": "914c7b56",
   "metadata": {},
   "source": [
    "1. Make a GET request to retrieve a list of posts"
   ]
  },
  {
   "cell_type": "code",
   "execution_count": 1,
   "id": "993e1a2b",
   "metadata": {},
   "outputs": [],
   "source": [
    "url = \"https://jsonplaceholder.typicode.com/posts\""
   ]
  },
  {
   "cell_type": "code",
   "execution_count": 4,
   "id": "eb4425a1",
   "metadata": {},
   "outputs": [
    {
     "name": "stdout",
     "output_type": "stream",
     "text": [
      "status code: 200\n",
      "Successfull GET request!\n",
      "post1:{'userId': 1, 'id': 1, 'title': 'sunt aut facere repellat provident occaecati excepturi optio reprehenderit', 'body': 'quia et suscipit\\nsuscipit recusandae consequuntur expedita et cum\\nreprehenderit molestiae ut ut quas totam\\nnostrum rerum est autem sunt rem eveniet architecto'}\n",
      "post2:{'userId': 1, 'id': 2, 'title': 'qui est esse', 'body': 'est rerum tempore vitae\\nsequi sint nihil reprehenderit dolor beatae ea dolores neque\\nfugiat blanditiis voluptate porro vel nihil molestiae ut reiciendis\\nqui aperiam non debitis possimus qui neque nisi nulla'}\n",
      "post3:{'userId': 1, 'id': 3, 'title': 'ea molestias quasi exercitationem repellat qui ipsa sit aut', 'body': 'et iusto sed quo iure\\nvoluptatem occaecati omnis eligendi aut ad\\nvoluptatem doloribus vel accusantium quis pariatur\\nmolestiae porro eius odio et labore et velit aut'}\n"
     ]
    }
   ],
   "source": [
    "try:\n",
    "    response = requests.get(url)\n",
    "    response.raise_for_status()\n",
    "except Exception as e:\n",
    "    print(e)\n",
    "else:\n",
    "    status_code= response.status_code\n",
    "    print(f\"status code: {status_code}\")\n",
    "    if status_code==200:\n",
    "        print(\"Successfull GET request!\")\n",
    "        posts= response.json()\n",
    "        for i in range(3):\n",
    "            print(f\"post{i+1}:{posts[i]}\")\n",
    "    else:\n",
    "        print(\"Unsuccessful GET request\")\n"
   ]
  },
  {
   "cell_type": "markdown",
   "id": "59b46e5a",
   "metadata": {},
   "source": [
    "2. \n",
    "Make a POST request to submit a post\n",
    "\n",
    "include the following parameters:\n",
    "\n",
    "title\n",
    "\n",
    "body\n",
    "\n",
    "userId"
   ]
  },
  {
   "cell_type": "code",
   "execution_count": 5,
   "id": "7f4d466e",
   "metadata": {},
   "outputs": [],
   "source": [
    "new_post = {\n",
    "\t\"title\": \"Sample Post\",\n",
    "\t\"body\": \"This is a sample post\",\n",
    "\t\"userId\": 101\n",
    "}"
   ]
  },
  {
   "cell_type": "code",
   "execution_count": 6,
   "metadata": {},
   "outputs": [
    {
     "name": "stdout",
     "output_type": "stream",
     "text": [
      "status Code:201\n",
      "Successsfull POST request\n",
      "\n",
      "post:\n",
      "{'title': 'Sample Post', 'body': 'This is a sample post', 'userId': '101', 'id': 101}\n"
     ]
    }
   ],
   "source": [
    "try :\n",
    "    response= requests.post(url, data= new_post)\n",
    "    response.raise_for_status\n",
    "except Exception as e:\n",
    "    print(e)\n",
    "else:\n",
    "    status_code= response.status_code\n",
    "    if status_code==201:\n",
    "        print(f\"status Code:{status_code}\")\n",
    "        print(\"Successsfull POST request\")\n",
    "        post = response.json()\n",
    "        print(\"\\npost:\")\n",
    "        print(post)\n",
    "    else:\n",
    "        print(f\"status_code:{status_code}\")\n",
    "        print(\"\\nUnsuccessful post request!\")"
   ]
  },
  {
   "cell_type": "code",
   "execution_count": null,
   "metadata": {},
   "outputs": [],
   "source": []
  },
  {
   "cell_type": "code",
   "execution_count": null,
   "id": "9af8e5ca",
   "metadata": {},
   "outputs": [],
   "source": []
  },
  {
   "cell_type": "code",
   "execution_count": null,
   "id": "554535d3",
   "metadata": {},
   "outputs": [],
   "source": []
  },
  {
   "cell_type": "markdown",
   "id": "00fbda60",
   "metadata": {},
   "source": []
  }
 ],
 "metadata": {
  "kernelspec": {
   "display_name": "Python 3",
   "language": "python",
   "name": "python3"
  },
  "language_info": {
   "codemirror_mode": {
    "name": "ipython",
    "version": 3
   },
   "file_extension": ".py",
   "mimetype": "text/x-python",
   "name": "python",
   "nbconvert_exporter": "python",
   "pygments_lexer": "ipython3",
   "version": "3.12.11"
  }
 },
 "nbformat": 4,
 "nbformat_minor": 5
}
