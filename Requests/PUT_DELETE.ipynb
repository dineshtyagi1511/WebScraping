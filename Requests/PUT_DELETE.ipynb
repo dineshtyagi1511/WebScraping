{
 "cells": [
  {
   "cell_type": "markdown",
   "id": "d9e208e8",
   "metadata": {},
   "source": [
    "## PUT \n",
    "use PUT method to update data\n",
    "\n",
    "address: https://httpbin.org/put"
   ]
  },
  {
   "cell_type": "code",
   "execution_count": 2,
   "id": "25cec866",
   "metadata": {},
   "outputs": [],
   "source": [
    "import requests"
   ]
  },
  {
   "cell_type": "code",
   "execution_count": 3,
   "id": "79c89146",
   "metadata": {},
   "outputs": [
    {
     "name": "stdout",
     "output_type": "stream",
     "text": [
      "200\n"
     ]
    }
   ],
   "source": [
    "uri = \"https://httpbin.org/put\"\n",
    "data = {\n",
    "\t\"param1\": \"value1\"\n",
    "}\n",
    "\n",
    "response = requests.put(uri, data=data)\n",
    "print(response.status_code)\n"
   ]
  },
  {
   "cell_type": "code",
   "execution_count": 4,
   "id": "33cdbea5",
   "metadata": {},
   "outputs": [
    {
     "data": {
      "text/plain": [
       "{'args': {},\n",
       " 'data': '',\n",
       " 'files': {},\n",
       " 'form': {'param1': 'value1'},\n",
       " 'headers': {'Accept': '*/*',\n",
       "  'Accept-Encoding': 'gzip, deflate',\n",
       "  'Content-Length': '13',\n",
       "  'Content-Type': 'application/x-www-form-urlencoded',\n",
       "  'Host': 'httpbin.org',\n",
       "  'User-Agent': 'python-requests/2.32.5',\n",
       "  'X-Amzn-Trace-Id': 'Root=1-68cd934c-3987a39e6888029d382d8f52'},\n",
       " 'json': None,\n",
       " 'origin': '223.185.53.210',\n",
       " 'url': 'https://httpbin.org/put'}"
      ]
     },
     "execution_count": 4,
     "metadata": {},
     "output_type": "execute_result"
    }
   ],
   "source": [
    "response.json()"
   ]
  },
  {
   "cell_type": "markdown",
   "id": "70fc6afc",
   "metadata": {},
   "source": [
    "## DELETE\n",
    "use DELETE method to delete a resource\n",
    "\n",
    "address: https://httpbin.org/delete"
   ]
  },
  {
   "cell_type": "code",
   "execution_count": null,
   "id": "ea732792",
   "metadata": {},
   "outputs": [],
   "source": [
    "uri = \"https://httpbin.org/delete\""
   ]
  },
  {
   "cell_type": "code",
   "execution_count": 5,
   "id": "f6108285",
   "metadata": {},
   "outputs": [
    {
     "name": "stdout",
     "output_type": "stream",
     "text": [
      "405\n"
     ]
    }
   ],
   "source": [
    "response = requests.delete(uri)\n",
    "print(response.status_code)"
   ]
  },
  {
   "cell_type": "code",
   "execution_count": 7,
   "id": "5b00bf23",
   "metadata": {},
   "outputs": [],
   "source": [
    "\n",
    "##response.json()"
   ]
  },
  {
   "cell_type": "code",
   "execution_count": null,
   "id": "0c329d78",
   "metadata": {},
   "outputs": [],
   "source": []
  }
 ],
 "metadata": {
  "kernelspec": {
   "display_name": "Python 3",
   "language": "python",
   "name": "python3"
  },
  "language_info": {
   "codemirror_mode": {
    "name": "ipython",
    "version": 3
   },
   "file_extension": ".py",
   "mimetype": "text/x-python",
   "name": "python",
   "nbconvert_exporter": "python",
   "pygments_lexer": "ipython3",
   "version": "3.12.11"
  }
 },
 "nbformat": 4,
 "nbformat_minor": 5
}
