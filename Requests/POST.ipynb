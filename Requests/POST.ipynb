{
 "cells": [
  {
   "cell_type": "markdown",
   "id": "e2a76de7",
   "metadata": {},
   "source": [
    "# POST "
   ]
  },
  {
   "cell_type": "code",
   "execution_count": 1,
   "id": "6cf2261d",
   "metadata": {},
   "outputs": [],
   "source": [
    "import requests "
   ]
  },
  {
   "cell_type": "markdown",
   "id": "b9927dd5",
   "metadata": {},
   "source": [
    "1)\n",
    "send some data to a test server\n",
    "\n",
    "server address: https://httpbin.org/post"
   ]
  },
  {
   "cell_type": "code",
   "execution_count": 3,
   "id": "0ef1e5b6",
   "metadata": {},
   "outputs": [
    {
     "data": {
      "text/plain": [
       "503"
      ]
     },
     "execution_count": 3,
     "metadata": {},
     "output_type": "execute_result"
    }
   ],
   "source": [
    "uri =\"https://httpbin.org/post\"\n",
    "data= {\n",
    "    \"username\":\"bruce\",\n",
    "    \"password\":\"bruce123\"\n",
    "}\n",
    "response= requests.post(uri,data=data)\n",
    "response.status_code"
   ]
  },
  {
   "cell_type": "markdown",
   "id": "ac497c5f",
   "metadata": {},
   "source": [
    "APIs usually expect data in JSON format\n",
    "\n",
    "send data in JSON format using POST message"
   ]
  },
  {
   "cell_type": "code",
   "execution_count": 5,
   "id": "f4ac8e9e",
   "metadata": {},
   "outputs": [],
   "source": [
    "## response.json()"
   ]
  },
  {
   "cell_type": "code",
   "execution_count": 8,
   "id": "5232c761",
   "metadata": {},
   "outputs": [
    {
     "data": {
      "text/plain": [
       "200"
      ]
     },
     "execution_count": 8,
     "metadata": {},
     "output_type": "execute_result"
    }
   ],
   "source": [
    "response2 = requests.post(uri, json=data)\n",
    "response2.status_code"
   ]
  },
  {
   "cell_type": "code",
   "execution_count": 10,
   "id": "3e1cde92",
   "metadata": {},
   "outputs": [
    {
     "data": {
      "text/plain": [
       "'45'"
      ]
     },
     "execution_count": 10,
     "metadata": {},
     "output_type": "execute_result"
    }
   ],
   "source": [
    "response2.json()[\"headers\"]['Content-Length'].split(\"/\")[-1]"
   ]
  },
  {
   "cell_type": "code",
   "execution_count": 11,
   "id": "ea002d16",
   "metadata": {},
   "outputs": [
    {
     "data": {
      "text/plain": [
       "{'args': {},\n",
       " 'data': '{\"username\": \"bruce\", \"password\": \"bruce123\"}',\n",
       " 'files': {},\n",
       " 'form': {},\n",
       " 'headers': {'Accept': '*/*',\n",
       "  'Accept-Encoding': 'gzip, deflate',\n",
       "  'Content-Length': '45',\n",
       "  'Content-Type': 'application/json',\n",
       "  'Host': 'httpbin.org',\n",
       "  'User-Agent': 'python-requests/2.32.5',\n",
       "  'X-Amzn-Trace-Id': 'Root=1-68cd65ff-3d126eda278be0a54e419c49'},\n",
       " 'json': {'password': 'bruce123', 'username': 'bruce'},\n",
       " 'origin': '223.185.52.118',\n",
       " 'url': 'https://httpbin.org/post'}"
      ]
     },
     "execution_count": 11,
     "metadata": {},
     "output_type": "execute_result"
    }
   ],
   "source": [
    "response2.json()"
   ]
  },
  {
   "cell_type": "markdown",
   "id": "9a579736",
   "metadata": {},
   "source": []
  }
 ],
 "metadata": {
  "kernelspec": {
   "display_name": "Python 3",
   "language": "python",
   "name": "python3"
  },
  "language_info": {
   "codemirror_mode": {
    "name": "ipython",
    "version": 3
   },
   "file_extension": ".py",
   "mimetype": "text/x-python",
   "name": "python",
   "nbconvert_exporter": "python",
   "pygments_lexer": "ipython3",
   "version": "3.12.11"
  }
 },
 "nbformat": 4,
 "nbformat_minor": 5
}
